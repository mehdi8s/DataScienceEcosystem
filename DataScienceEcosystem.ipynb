{
 "cells": [
  {
   "cell_type": "markdown",
   "id": "c4ccb0c9-41b1-4b67-91c6-bee95dbccccb",
   "metadata": {},
   "source": [
    "# Data Science Tools and Ecosystem"
   ]
  },
  {
   "cell_type": "markdown",
   "id": "6ec3ac10-e84b-4c27-9f5c-62180088f46f",
   "metadata": {},
   "source": [
    "In this notebook, Data Science Tools and Ecosystem are summarized.\r\n"
   ]
  },
  {
   "cell_type": "markdown",
   "id": "fe3086de-d171-47ff-a0c1-ff353234602d",
   "metadata": {},
   "source": [
    "Some of the popular languages that Data Scientists use are:\n",
    "1. PYTHON\n",
    "2. R\n",
    "3. SQL\n",
    "4. JULIA\n",
    "5. SCALA\n"
   ]
  },
  {
   "cell_type": "markdown",
   "id": "d0cd0e2e-acf4-4c3f-921c-fa6d0cb5d2ed",
   "metadata": {},
   "source": [
    "Some of the commonly used libraries used by Data Scientists include:\r",
    "1. NumPy\n",
    "2. Pandas\n",
    "3. Scikit-learn\n",
    "4. Matplotlib\n",
    "5. Tensorflow\n"
   ]
  },
  {
   "cell_type": "markdown",
   "id": "ad0b0183-24f7-4f6b-a08e-0a64687f7272",
   "metadata": {},
   "source": [
    "|Data Science Tools|\n",
    "--------------------\n",
    "| Jupyter Notebook |\n",
    "| Rstudio |\n",
    "| Apache Zeppelin |"
   ]
  },
  {
   "cell_type": "markdown",
   "id": "46301411-1274-479f-9d0a-a0dea05d765a",
   "metadata": {},
   "source": [
    "### Below are a few examples of evaluating arithmetic expressions in Python"
   ]
  },
  {
   "cell_type": "markdown",
   "id": "d5c6be4f-fcc8-4bde-8a99-836b282277d0",
   "metadata": {},
   "source": [
    "This a simple arithmetic expression to mutiply then add integers"
   ]
  },
  {
   "cell_type": "code",
   "execution_count": 15,
   "id": "58a15b3e-7b58-4b61-81ba-c5bd57dc7edb",
   "metadata": {},
   "outputs": [
    {
     "data": {
      "text/plain": [
       "17"
      ]
     },
     "execution_count": 15,
     "metadata": {},
     "output_type": "execute_result"
    }
   ],
   "source": [
    "(3*4)+5"
   ]
  },
  {
   "cell_type": "markdown",
   "id": "43266c2c-16fc-4c3c-9c2d-f9873e208e33",
   "metadata": {},
   "source": [
    "This will convert 200 minutes to hours by diving by 60"
   ]
  },
  {
   "cell_type": "code",
   "execution_count": 19,
   "id": "c04d23ba-4d99-4dbe-9cf2-c59434a250af",
   "metadata": {},
   "outputs": [
    {
     "data": {
      "text/plain": [
       "3.3333333333333335"
      ]
     },
     "execution_count": 19,
     "metadata": {},
     "output_type": "execute_result"
    }
   ],
   "source": [
    "200 / 60"
   ]
  },
  {
   "cell_type": "markdown",
   "id": "b47be8df-be9f-48bf-8d0c-4060a35a3bf4",
   "metadata": {},
   "source": [
    "**Objectives:**\n",
    "- List popular languages for Data Science\n",
    "- Describe commonly used libraries in Data Science\n",
    "- Create and format markdown cells in Jupyter Notebook\n",
    "- Build and display tables using Markdown\n"
   ]
  },
  {
   "cell_type": "markdown",
   "id": "7a388a74-8aa4-46d4-8ade-831100f49bc3",
   "metadata": {},
   "source": [
    "## Author :                              \n",
    "MAHDI SHAHROUEI"
   ]
  },
  {
   "cell_type": "code",
   "execution_count": null,
   "id": "7c068449-3c2d-4ef6-8d72-22aebef34b68",
   "metadata": {},
   "outputs": [],
   "source": []
  }
 ],
 "metadata": {
  "kernelspec": {
   "display_name": "Python 3 (ipykernel)",
   "language": "python",
   "name": "python3"
  },
  "language_info": {
   "codemirror_mode": {
    "name": "ipython",
    "version": 3
   },
   "file_extension": ".py",
   "mimetype": "text/x-python",
   "name": "python",
   "nbconvert_exporter": "python",
   "pygments_lexer": "ipython3",
   "version": "3.11.7"
  }
 },
 "nbformat": 4,
 "nbformat_minor": 5
}
